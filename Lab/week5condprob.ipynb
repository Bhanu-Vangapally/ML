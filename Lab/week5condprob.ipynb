{
 "cells": [
  {
   "cell_type": "code",
   "execution_count": 1,
   "id": "14d0bc07-6825-4fd7-8480-506d98542df2",
   "metadata": {},
   "outputs": [
    {
     "name": "stdout",
     "output_type": "stream",
     "text": [
      "Unconditional probability of golf: =0.4\n",
      "Conditional probability of single given medRisk: = 0.6666666666666667\n"
     ]
    }
   ],
   "source": [
    "#5  the  following training examples map descriptions of individuals onto high, medium and lowcredit-worthiness\n",
    "totalRecords=10 \n",
    "numberGolfRecreation=4\n",
    "probGolf=numberGolfRecreation/totalRecords \n",
    "print(\"Unconditional probability of golf: ={}\".format(probGolf)) \n",
    "#conditional probability of `single' given`medRisk'\n",
    "# bayes Formula \n",
    "#p(single|medRisk)=p(medRisk|single)p(single)/p(medRisk) \n",
    "#p(medRisk|single)=p(medRisk ∩single)/p(single)\n",
    "# Therefore the result is: \n",
    "numberMedRiskSingle=2 \n",
    "numberMedRisk=3\n",
    "probMedRiskSingle=numberMedRiskSingle/totalRecords \n",
    "probMedRisk=numberMedRisk/totalRecords \n",
    "conditionalProbability=(probMedRiskSingle/probMedRisk)\n",
    "print(\"Conditional probability of single given medRisk: = {}\".format(conditionalProbability))"
   ]
  },
  {
   "cell_type": "code",
   "execution_count": null,
   "id": "cc3f4fe9-656e-4436-b9a7-2e0203aa55bd",
   "metadata": {},
   "outputs": [],
   "source": []
  }
 ],
 "metadata": {
  "kernelspec": {
   "display_name": "Python 3 (ipykernel)",
   "language": "python",
   "name": "python3"
  },
  "language_info": {
   "codemirror_mode": {
    "name": "ipython",
    "version": 3
   },
   "file_extension": ".py",
   "mimetype": "text/x-python",
   "name": "python",
   "nbconvert_exporter": "python",
   "pygments_lexer": "ipython3",
   "version": "3.12.0"
  }
 },
 "nbformat": 4,
 "nbformat_minor": 5
}
