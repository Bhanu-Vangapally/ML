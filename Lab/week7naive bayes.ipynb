{
 "cells": [
  {
   "cell_type": "code",
   "execution_count": 1,
   "id": "91bca930-ef13-4652-b39f-f8f0cccc24ed",
   "metadata": {},
   "outputs": [
    {
     "name": "stdout",
     "output_type": "stream",
     "text": [
      "['positive']\n"
     ]
    }
   ],
   "source": [
    "\n",
    "import numpy as np\n",
    "from sklearn.naive_bayes import MultinomialNB\n",
    "from sklearn.feature_extraction.text import CountVectorizer\n",
    "\n",
    "# Sample training data\n",
    "X_train = np.array([\"This is a good product\", \"I do not like this product\", \"This is a bad product\"])\n",
    "y_train = np.array([\"positive\", \"negative\", \"negative\"])\n",
    "\n",
    "# Convert text to vectors\n",
    "vectorizer = CountVectorizer()\n",
    "X_train = vectorizer.fit_transform(X_train)\n",
    "\n",
    "# Train the classifier\n",
    "clf = MultinomialNB()\n",
    "clf.fit(X_train, y_train)\n",
    "\n",
    "# Sample test data\n",
    "X_test = np.array([\"This product is good\"])\n",
    "\n",
    "# Convert text to vectors\n",
    "X_test = vectorizer.transform(X_test)\n",
    "\n",
    "# Predict the class\n",
    "y_pred = clf.predict(X_test)\n",
    "\n",
    "print(y_pred)"
   ]
  },
  {
   "cell_type": "code",
   "execution_count": 15,
   "id": "401a9da3-b5e0-4f4a-8891-57289330d2ad",
   "metadata": {},
   "outputs": [
    {
     "name": "stdout",
     "output_type": "stream",
     "text": [
      "Predicted class: ['pos']\n"
     ]
    }
   ],
   "source": [
    "import pandas as pd\n",
    "import numpy as np\n",
    "from sklearn.naive_bayes import MultinomialNB\n",
    "from sklearn.feature_extraction.text import CountVectorizer\n",
    "from sklearn.model_selection import train_test_split\n",
    "\n",
    "# Read data from CSV file\n",
    "data = pd.read_csv('engl.csv', delimiter='\\t')\n",
    "\n",
    "# Assuming your CSV file has 'text' and 'label' columns\n",
    "X = data['text']\n",
    "y = data['label']\n",
    "\n",
    "# Split the data into training and testing sets\n",
    "X_train, X_test, y_train, y_test = train_test_split(X, y, test_size=0.2, random_state=42)\n",
    "\n",
    "# Convert text to vectors using CountVectorizer\n",
    "vectorizer = CountVectorizer()\n",
    "X_train = vectorizer.fit_transform(X_train)\n",
    "X_test = vectorizer.transform(X_test)\n",
    "\n",
    "# Train the classifier\n",
    "clf = MultinomialNB()\n",
    "clf.fit(X_train, y_train)\n",
    "\n",
    "# Sample test data\n",
    "X_test_sample = np.array([\"This is an amazing place\"])\n",
    "\n",
    "# Convert text to vectors\n",
    "X_test_sample = vectorizer.transform(X_test_sample)\n",
    "\n",
    "# Predict the class\n",
    "y_pred = clf.predict(X_test_sample)\n",
    "\n",
    "print(\"Predicted class:\", y_pred)\n"
   ]
  },
  {
   "cell_type": "code",
   "execution_count": 2,
   "id": "5a2312c5-2ba2-4d5e-94e1-ef75b3a82cfc",
   "metadata": {},
   "outputs": [
    {
     "name": "stdout",
     "output_type": "stream",
     "text": [
      "Accuracy: 0.50\n",
      "Classification Report:\n",
      "              precision    recall  f1-score   support\n",
      "\n",
      "         neg       0.33      1.00      0.50         1\n",
      "         pos       1.00      0.33      0.50         3\n",
      "\n",
      "    accuracy                           0.50         4\n",
      "   macro avg       0.67      0.67      0.50         4\n",
      "weighted avg       0.83      0.50      0.50         4\n",
      "\n"
     ]
    }
   ],
   "source": [
    "# Write this in observation and record\n",
    "import pandas as pd\n",
    "from sklearn.model_selection import train_test_split\n",
    "from sklearn.feature_extraction.text import CountVectorizer\n",
    "from sklearn.naive_bayes import MultinomialNB\n",
    "from sklearn.metrics import accuracy_score, classification_report\n",
    "\n",
    "# Read data from CSV file\n",
    "data = pd.read_csv('engl.csv', delimiter='\\t')\n",
    "\n",
    "# Split the data into training and testing sets\n",
    "X_train, X_test, y_train, y_test = train_test_split(data['text'], data['label'], test_size=0.2, random_state=42)\n",
    "\n",
    "# Convert text to vectors using CountVectorizer. fit_transform is used on the training data (X_train), and transform is used on the test data (X_test).\n",
    "#During the \"fit\" phase, the vectorizer learns the vocabulary and other parameters from the training data.\n",
    "#During the \"transform\" phase, it converts the actual text data into numerical vectors based on the learned vocabulary.\n",
    "\n",
    "vectorizer = CountVectorizer()\n",
    "X_train_vectorized = vectorizer.fit_transform(X_train)\n",
    "X_test_vectorized = vectorizer.transform(X_test)\n",
    "\n",
    "# Train the classifier\n",
    "clf = MultinomialNB()\n",
    "clf.fit(X_train_vectorized, y_train)\n",
    "\n",
    "# Predict the labels of the test data\n",
    "y_pred = clf.predict(X_test_vectorized)\n",
    "\n",
    "\n",
    "# Evaluate the accuracy of the classifier\n",
    "accuracy = accuracy_score(y_test, y_pred)\n",
    "print(f'Accuracy: {accuracy:.2f}')\n",
    "\n",
    "# Display the classification report\n",
    "#The classification report includes precision, recall, and F1-score for each class ('pos' and 'neg'). \n",
    "#It provides a detailed summary of the model's performance on the test data.\n",
    "#Precision is the ratio of correctly predicted positive observations to the total predicted positives. TP / (TP + FP)\n",
    "#Recall is the ratio of correctly predicted positive observations to the all observations in actual class.Recall = TP / (TP + FN)\n",
    "#F1-score is the weighted average of precision and recall. It takes both false positives and false negatives into account.\n",
    "#F1-Score = 2 * (Precision * Recall) / (Precision + Recall)\n",
    "#Support is the number of actual occurrences of the class in the specified dataset.\n",
    "#Accuracy is the ratio of correctly predicted instances to the total instances in the dataset.Accuracy = (TP + TN) / (TP + TN + FP + FN)\n",
    "\n",
    "print('Classification Report:')\n",
    "print(classification_report(y_test, y_pred))\n"
   ]
  },
  {
   "cell_type": "code",
   "execution_count": null,
   "id": "d4d00327-1016-46b6-b139-c3d3c7f55401",
   "metadata": {},
   "outputs": [],
   "source": []
  }
 ],
 "metadata": {
  "kernelspec": {
   "display_name": "Python 3 (ipykernel)",
   "language": "python",
   "name": "python3"
  },
  "language_info": {
   "codemirror_mode": {
    "name": "ipython",
    "version": 3
   },
   "file_extension": ".py",
   "mimetype": "text/x-python",
   "name": "python",
   "nbconvert_exporter": "python",
   "pygments_lexer": "ipython3",
   "version": "3.12.0"
  }
 },
 "nbformat": 4,
 "nbformat_minor": 5
}
