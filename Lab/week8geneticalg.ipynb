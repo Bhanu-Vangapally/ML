{
 "cells": [
  {
   "cell_type": "code",
   "execution_count": 1,
   "id": "b834d3ad-e77f-44be-92b2-d3fb4550ce32",
   "metadata": {},
   "outputs": [
    {
     "name": "stdout",
     "output_type": "stream",
     "text": [
      "Best individual found:\n",
      "Chromosome: [1, 1, 1, 1, 1, 1, 1, 1, 1, 1]\n",
      "Fitness: 10\n"
     ]
    }
   ],
   "source": [
    "import random\n",
    "\n",
    "class Individual:\n",
    "    def __init__(self, chromosome):\n",
    "        self.chromosome = chromosome\n",
    "        self.fitness = 0\n",
    "\n",
    "def fitness(individual):\n",
    "    # Calculate the fitness of an individual based on its chromosome.\n",
    "    # Replace this with your own fitness function.\n",
    "    return sum(individual.chromosome)\n",
    "\n",
    "def crossover(parent1, parent2):\n",
    "    # Perform crossover between two parents to produce two offspring.\n",
    "    # Replace this with your own crossover function.\n",
    "    crossover_point = random.randint(1, len(parent1.chromosome) - 2)\n",
    "    child1_chromosome = parent1.chromosome[:crossover_point] + parent2.chromosome[crossover_point:]\n",
    "    child2_chromosome = parent2.chromosome[:crossover_point] + parent1.chromosome[crossover_point:]\n",
    "    return Individual(child1_chromosome), Individual(child2_chromosome)\n",
    "\n",
    "def mutate(individual, mutation_rate):\n",
    "    # Mutate an individual's chromosome with a given mutation rate.\n",
    "    # Replace this with your own mutation function.\n",
    "    for i in range(len(individual.chromosome)):\n",
    "        if random.random() < mutation_rate:\n",
    "            individual.chromosome[i] = random.randint(0, 1)\n",
    "\n",
    "def genetic_algorithm(population_size, generations, mutation_rate, crossover_rate):\n",
    "    population = [Individual([random.randint(0, 1) for _ in range(10)]) for _ in range(population_size)]\n",
    "\n",
    "    for generation in range(generations):\n",
    "        # Evaluate the fitness of each individual in the population.\n",
    "        for individual in population:\n",
    "            individual.fitness = fitness(individual)\n",
    "\n",
    "        # Select the fittest individuals for reproduction.\n",
    "        parents = sorted(population, key=lambda individual: individual.fitness, reverse=True)[:int(population_size / 2)]\n",
    "\n",
    "        # Create the next generation of individuals.\n",
    "        children = []\n",
    "        for i in range(0, len(parents) - 1, 2):  # Ensure loop stops before reaching the last parent if odd\n",
    "            if random.random() < crossover_rate:\n",
    "                child1, child2 = crossover(parents[i], parents[i + 1])\n",
    "            else:\n",
    "                child1 = Individual(parents[i].chromosome[:])\n",
    "                child2 = Individual(parents[i + 1].chromosome[:])\n",
    "\n",
    "            mutate(child1, mutation_rate)\n",
    "            mutate(child2, mutation_rate)\n",
    "\n",
    "            children.append(child1)\n",
    "            children.append(child2)\n",
    "\n",
    "        population = parents + children\n",
    "\n",
    "    # Return the best individual found\n",
    "    best_individual = max(population, key=lambda individual: individual.fitness)\n",
    "    return best_individual\n",
    "\n",
    "# Set the parameters for the genetic algorithm\n",
    "population_size = 50\n",
    "generations = 100\n",
    "mutation_rate = 0.01\n",
    "crossover_rate = 0.8\n",
    "\n",
    "# Call the genetic_algorithm function\n",
    "best_individual = genetic_algorithm(population_size, generations, mutation_rate, crossover_rate)\n",
    "\n",
    "# Print the best individual found\n",
    "print(\"Best individual found:\")\n",
    "print(f\"Chromosome: {best_individual.chromosome}\")\n",
    "print(f\"Fitness: {best_individual.fitness}\")"
   ]
  },
  {
   "cell_type": "code",
   "execution_count": null,
   "id": "919057c4-ce79-43b9-a70f-f3ddd162cd86",
   "metadata": {},
   "outputs": [],
   "source": []
  }
 ],
 "metadata": {
  "kernelspec": {
   "display_name": "Python 3 (ipykernel)",
   "language": "python",
   "name": "python3"
  },
  "language_info": {
   "codemirror_mode": {
    "name": "ipython",
    "version": 3
   },
   "file_extension": ".py",
   "mimetype": "text/x-python",
   "name": "python",
   "nbconvert_exporter": "python",
   "pygments_lexer": "ipython3",
   "version": "3.12.0"
  }
 },
 "nbformat": 4,
 "nbformat_minor": 5
}
